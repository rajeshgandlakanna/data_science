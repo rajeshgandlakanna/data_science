{
 "cells": [
  {
   "cell_type": "markdown",
   "id": "c5d0b5ea",
   "metadata": {},
   "source": [
    "### Q 20) Calculate probability from the given dataset for the below cases\n",
    "\n",
    "Data _set: Cars.csv\n",
    "Calculate the probability of MPG  of Cars for the below cases.\n",
    "       MPG <- Cars$MPG\n",
    "a.\tP(MPG>38)\n",
    "b.\tP(MPG<40)\n",
    "c.  P (20<MPG<50)\n"
   ]
  },
  {
   "cell_type": "code",
   "execution_count": 1,
   "id": "3ccb53b3",
   "metadata": {},
   "outputs": [],
   "source": [
    "import numpy as np\n",
    "import pandas as pd"
   ]
  },
  {
   "cell_type": "code",
   "execution_count": 2,
   "id": "a89d59bf",
   "metadata": {},
   "outputs": [],
   "source": [
    "data = pd.read_csv(r\"C:\\Users\\gandl\\Downloads\\Cars (1).csv\")"
   ]
  },
  {
   "cell_type": "code",
   "execution_count": 3,
   "id": "2270d6db",
   "metadata": {},
   "outputs": [
    {
     "data": {
      "text/html": [
       "<div>\n",
       "<style scoped>\n",
       "    .dataframe tbody tr th:only-of-type {\n",
       "        vertical-align: middle;\n",
       "    }\n",
       "\n",
       "    .dataframe tbody tr th {\n",
       "        vertical-align: top;\n",
       "    }\n",
       "\n",
       "    .dataframe thead th {\n",
       "        text-align: right;\n",
       "    }\n",
       "</style>\n",
       "<table border=\"1\" class=\"dataframe\">\n",
       "  <thead>\n",
       "    <tr style=\"text-align: right;\">\n",
       "      <th></th>\n",
       "      <th>HP</th>\n",
       "      <th>MPG</th>\n",
       "      <th>VOL</th>\n",
       "      <th>SP</th>\n",
       "      <th>WT</th>\n",
       "    </tr>\n",
       "  </thead>\n",
       "  <tbody>\n",
       "    <tr>\n",
       "      <th>0</th>\n",
       "      <td>49</td>\n",
       "      <td>53.700681</td>\n",
       "      <td>89</td>\n",
       "      <td>104.185353</td>\n",
       "      <td>28.762059</td>\n",
       "    </tr>\n",
       "    <tr>\n",
       "      <th>1</th>\n",
       "      <td>55</td>\n",
       "      <td>50.013401</td>\n",
       "      <td>92</td>\n",
       "      <td>105.461264</td>\n",
       "      <td>30.466833</td>\n",
       "    </tr>\n",
       "    <tr>\n",
       "      <th>2</th>\n",
       "      <td>55</td>\n",
       "      <td>50.013401</td>\n",
       "      <td>92</td>\n",
       "      <td>105.461264</td>\n",
       "      <td>30.193597</td>\n",
       "    </tr>\n",
       "    <tr>\n",
       "      <th>3</th>\n",
       "      <td>70</td>\n",
       "      <td>45.696322</td>\n",
       "      <td>92</td>\n",
       "      <td>113.461264</td>\n",
       "      <td>30.632114</td>\n",
       "    </tr>\n",
       "    <tr>\n",
       "      <th>4</th>\n",
       "      <td>53</td>\n",
       "      <td>50.504232</td>\n",
       "      <td>92</td>\n",
       "      <td>104.461264</td>\n",
       "      <td>29.889149</td>\n",
       "    </tr>\n",
       "    <tr>\n",
       "      <th>...</th>\n",
       "      <td>...</td>\n",
       "      <td>...</td>\n",
       "      <td>...</td>\n",
       "      <td>...</td>\n",
       "      <td>...</td>\n",
       "    </tr>\n",
       "    <tr>\n",
       "      <th>76</th>\n",
       "      <td>322</td>\n",
       "      <td>36.900000</td>\n",
       "      <td>50</td>\n",
       "      <td>169.598513</td>\n",
       "      <td>16.132947</td>\n",
       "    </tr>\n",
       "    <tr>\n",
       "      <th>77</th>\n",
       "      <td>238</td>\n",
       "      <td>19.197888</td>\n",
       "      <td>115</td>\n",
       "      <td>150.576579</td>\n",
       "      <td>37.923113</td>\n",
       "    </tr>\n",
       "    <tr>\n",
       "      <th>78</th>\n",
       "      <td>263</td>\n",
       "      <td>34.000000</td>\n",
       "      <td>50</td>\n",
       "      <td>151.598513</td>\n",
       "      <td>15.769625</td>\n",
       "    </tr>\n",
       "    <tr>\n",
       "      <th>79</th>\n",
       "      <td>295</td>\n",
       "      <td>19.833733</td>\n",
       "      <td>119</td>\n",
       "      <td>167.944460</td>\n",
       "      <td>39.423099</td>\n",
       "    </tr>\n",
       "    <tr>\n",
       "      <th>80</th>\n",
       "      <td>236</td>\n",
       "      <td>12.101263</td>\n",
       "      <td>107</td>\n",
       "      <td>139.840817</td>\n",
       "      <td>34.948615</td>\n",
       "    </tr>\n",
       "  </tbody>\n",
       "</table>\n",
       "<p>81 rows × 5 columns</p>\n",
       "</div>"
      ],
      "text/plain": [
       "     HP        MPG  VOL          SP         WT\n",
       "0    49  53.700681   89  104.185353  28.762059\n",
       "1    55  50.013401   92  105.461264  30.466833\n",
       "2    55  50.013401   92  105.461264  30.193597\n",
       "3    70  45.696322   92  113.461264  30.632114\n",
       "4    53  50.504232   92  104.461264  29.889149\n",
       "..  ...        ...  ...         ...        ...\n",
       "76  322  36.900000   50  169.598513  16.132947\n",
       "77  238  19.197888  115  150.576579  37.923113\n",
       "78  263  34.000000   50  151.598513  15.769625\n",
       "79  295  19.833733  119  167.944460  39.423099\n",
       "80  236  12.101263  107  139.840817  34.948615\n",
       "\n",
       "[81 rows x 5 columns]"
      ]
     },
     "execution_count": 3,
     "metadata": {},
     "output_type": "execute_result"
    }
   ],
   "source": [
    "data"
   ]
  },
  {
   "cell_type": "code",
   "execution_count": 9,
   "id": "501004a6",
   "metadata": {},
   "outputs": [
    {
     "data": {
      "text/html": [
       "<div>\n",
       "<style scoped>\n",
       "    .dataframe tbody tr th:only-of-type {\n",
       "        vertical-align: middle;\n",
       "    }\n",
       "\n",
       "    .dataframe tbody tr th {\n",
       "        vertical-align: top;\n",
       "    }\n",
       "\n",
       "    .dataframe thead th {\n",
       "        text-align: right;\n",
       "    }\n",
       "</style>\n",
       "<table border=\"1\" class=\"dataframe\">\n",
       "  <thead>\n",
       "    <tr style=\"text-align: right;\">\n",
       "      <th></th>\n",
       "      <th>HP</th>\n",
       "      <th>MPG</th>\n",
       "      <th>VOL</th>\n",
       "      <th>SP</th>\n",
       "      <th>WT</th>\n",
       "    </tr>\n",
       "  </thead>\n",
       "  <tbody>\n",
       "    <tr>\n",
       "      <th>0</th>\n",
       "      <td>49</td>\n",
       "      <td>53.700681</td>\n",
       "      <td>89</td>\n",
       "      <td>104.185353</td>\n",
       "      <td>28.762059</td>\n",
       "    </tr>\n",
       "    <tr>\n",
       "      <th>1</th>\n",
       "      <td>55</td>\n",
       "      <td>50.013401</td>\n",
       "      <td>92</td>\n",
       "      <td>105.461264</td>\n",
       "      <td>30.466833</td>\n",
       "    </tr>\n",
       "    <tr>\n",
       "      <th>2</th>\n",
       "      <td>55</td>\n",
       "      <td>50.013401</td>\n",
       "      <td>92</td>\n",
       "      <td>105.461264</td>\n",
       "      <td>30.193597</td>\n",
       "    </tr>\n",
       "    <tr>\n",
       "      <th>3</th>\n",
       "      <td>70</td>\n",
       "      <td>45.696322</td>\n",
       "      <td>92</td>\n",
       "      <td>113.461264</td>\n",
       "      <td>30.632114</td>\n",
       "    </tr>\n",
       "    <tr>\n",
       "      <th>4</th>\n",
       "      <td>53</td>\n",
       "      <td>50.504232</td>\n",
       "      <td>92</td>\n",
       "      <td>104.461264</td>\n",
       "      <td>29.889149</td>\n",
       "    </tr>\n",
       "  </tbody>\n",
       "</table>\n",
       "</div>"
      ],
      "text/plain": [
       "   HP        MPG  VOL          SP         WT\n",
       "0  49  53.700681   89  104.185353  28.762059\n",
       "1  55  50.013401   92  105.461264  30.466833\n",
       "2  55  50.013401   92  105.461264  30.193597\n",
       "3  70  45.696322   92  113.461264  30.632114\n",
       "4  53  50.504232   92  104.461264  29.889149"
      ]
     },
     "execution_count": 9,
     "metadata": {},
     "output_type": "execute_result"
    }
   ],
   "source": [
    "data.head()"
   ]
  },
  {
   "cell_type": "code",
   "execution_count": 10,
   "id": "b546f7e0",
   "metadata": {},
   "outputs": [
    {
     "name": "stdout",
     "output_type": "stream",
     "text": [
      "a. P(MPG > 38): 0.4074074074074074\n",
      "b. P(MPG < 40): 0.7530864197530864\n",
      "c. P(20 < MPG < 50): 0.8518518518518519\n"
     ]
    }
   ],
   "source": [
    "import pandas as pd\n",
    "\n",
    "# Loading the dataset\n",
    "data = pd.read_csv('C:/Users/gandl/Downloads/Cars (1).csv')\n",
    "\n",
    "# Calculating the probability of MPG > 38\n",
    "prob_mpg_gt_38 = (data['MPG'] > 38).mean()\n",
    "\n",
    "# Calculating the probability of MPG < 40\n",
    "prob_mpg_lt_40 = (data['MPG'] < 40).mean()\n",
    "\n",
    "# Calculating the probability of 20 < MPG < 50\n",
    "prob_mpg_between_20_and_50 = ((data['MPG'] > 20) & (data['MPG'] < 50)).mean()\n",
    "\n",
    "print(\"a. P(MPG > 38):\", prob_mpg_gt_38)\n",
    "print(\"b. P(MPG < 40):\", prob_mpg_lt_40)\n",
    "print(\"c. P(20 < MPG < 50):\", prob_mpg_between_20_and_50)"
   ]
  },
  {
   "cell_type": "markdown",
   "id": "1a45b5a7",
   "metadata": {},
   "source": [
    "### Q 21) Check whether the data follows normal distribution\n",
    "a)\tCheck whether the MPG of Cars follows Normal Distribution \n",
    "        Dataset: Cars.csv\n",
    "\n",
    "\n",
    "b)\tCheck Whether the Adipose Tissue (AT) and Waist Circumference(Waist)  from wc-at data set  follows Normal Distribution \n",
    "       Dataset: wc-at.csv\n"
   ]
  },
  {
   "cell_type": "code",
   "execution_count": 13,
   "id": "9abbfdfb",
   "metadata": {},
   "outputs": [],
   "source": [
    "# a) Check whether the MPG of Cars follows a Normal Distribution:"
   ]
  },
  {
   "cell_type": "code",
   "execution_count": 10,
   "id": "ba600658",
   "metadata": {},
   "outputs": [
    {
     "data": {
      "image/png": "[encoded data removed]",
      "text/plain": [
       "<Figure size 432x288 with 1 Axes>"
      ]
     },
     "metadata": {
      "needs_background": "light"
     },
     "output_type": "display_data"
    },
    {
     "name": "stdout",
     "output_type": "stream",
     "text": [
      "a) The MPG of Cars follows a Normal Distribution.\n"
     ]
    }
   ],
   "source": [
    "import pandas as pd\n",
    "import matplotlib.pyplot as plt\n",
    "from scipy.stats import shapiro, normaltest\n",
    "import warnings\n",
    "\n",
    "# Load the Cars dataset\n",
    "cars_data = pd.read_csv('C:/Users/gandl/Downloads/Cars (1).csv')\n",
    "\n",
    "# Extract the MPG column\n",
    "mpg_data = cars_data['MPG']\n",
    "\n",
    "# Visualize the distribution using a histogram\n",
    "plt.hist(mpg_data, bins=20, density=True, alpha=0.6, color='b')\n",
    "plt.title('Histogram to check Normal Distribution')\n",
    "plt.xlabel('MPG')\n",
    "plt.ylabel('Frequency')\n",
    "plt.show()\n",
    "\n",
    "# Perform the Shapiro-Wilk test for normality\n",
    "shapiro_test_statistic, shapiro_p_value = shapiro(mpg_data)\n",
    "\n",
    "# Perform the D'Agostino and Pearson's test for normality\n",
    "k2_statistic, k2_p_value = normaltest(mpg_data)\n",
    "\n",
    "# Check the p-values\n",
    "alpha = 0.05  # Significance level\n",
    "\n",
    "if shapiro_p_value > alpha and k2_p_value > alpha:\n",
    "    print(\"a) The MPG of Cars follows a Normal Distribution.\")\n",
    "else:\n",
    "    print(\"a) The MPG of Cars does not follow a Normal Distribution.\")"
   ]
  },
  {
   "cell_type": "code",
   "execution_count": 17,
   "id": "0a1f5c2a",
   "metadata": {},
   "outputs": [],
   "source": [
    "# b) Check Whether the Adipose Tissue (AT) and Waist Circumference (Waist) from the wc-at dataset follow a Normal Distribution:"
   ]
  },
  {
   "cell_type": "code",
   "execution_count": 18,
   "id": "f85d6b4e",
   "metadata": {},
   "outputs": [
    {
     "data": {
      "image/png": "[encoded data removed]",
      "text/plain": [
       "<Figure size 432x288 with 1 Axes>"
      ]
     },
     "metadata": {
      "needs_background": "light"
     },
     "output_type": "display_data"
    },
    {
     "data": {
      "image/png": "[encoded data removed]",
      "text/plain": [
       "<Figure size 432x288 with 1 Axes>"
      ]
     },
     "metadata": {
      "needs_background": "light"
     },
     "output_type": "display_data"
    },
    {
     "name": "stdout",
     "output_type": "stream",
     "text": [
      "b) Waist and AT from the wc-at dataset do not follow a Normal Distribution.\n"
     ]
    }
   ],
   "source": [
    "# Load the wc-at dataset\n",
    "wc_at_data = pd.read_csv(r\"C:\\Users\\gandl\\Downloads\\wc-at.csv\")\n",
    "\n",
    "# Extract the Waist and AT columns\n",
    "waist_data = wc_at_data['Waist']\n",
    "at_data = wc_at_data['AT']\n",
    "\n",
    "# Visualize the distribution of Waist\n",
    "plt.hist(waist_data, bins=20, density=True, alpha=0.6, color='b')\n",
    "plt.title('Waist Distribution')\n",
    "plt.xlabel('Waist')\n",
    "plt.ylabel('Frequency')\n",
    "plt.show()\n",
    "\n",
    "# Visualize the distribution of AT\n",
    "plt.hist(at_data, bins=20, density=True, alpha=0.6, color='g')\n",
    "plt.title('AT Distribution')\n",
    "plt.xlabel('AT')\n",
    "plt.ylabel('Frequency')\n",
    "plt.show()\n",
    "\n",
    "# Perform the Shapiro-Wilk test for normality on Waist\n",
    "shapiro_test_statistic_waist, shapiro_p_value_waist = shapiro(waist_data)\n",
    "\n",
    "# Perform the Shapiro-Wilk test for normality on AT\n",
    "shapiro_test_statistic_at, shapiro_p_value_at = shapiro(at_data)\n",
    "\n",
    "# Check the p-values\n",
    "alpha = 0.05  # Significance level\n",
    "\n",
    "if shapiro_p_value_waist > alpha and shapiro_p_value_at > alpha:\n",
    "    print(\"b) Waist and AT from the wc-at dataset follow a Normal Distribution.\")\n",
    "else:\n",
    "    print(\"b) Waist and AT from the wc-at dataset do not follow a Normal Distribution.\")\n"
   ]
  },
  {
   "cell_type": "markdown",
   "id": "092ec527",
   "metadata": {},
   "source": [
    "### Q 22) Calculate the Z scores of  90% confidence interval,94% confidence interval, 60% confidence interval "
   ]
  },
  {
   "cell_type": "code",
   "execution_count": 19,
   "id": "d328e704",
   "metadata": {},
   "outputs": [
    {
     "name": "stdout",
     "output_type": "stream",
     "text": [
      "90.0% Confidence Interval Z-score: 1.6449\n",
      "94.0% Confidence Interval Z-score: 1.8808\n",
      "60.0% Confidence Interval Z-score: 0.8416\n"
     ]
    }
   ],
   "source": [
    "import scipy.stats as stats\n",
    "\n",
    "# Confidence level for the intervals\n",
    "confidence_levels = [0.90, 0.94, 0.60]\n",
    "\n",
    "# Calculate Z-scores for each confidence level\n",
    "z_scores = []\n",
    "for confidence in confidence_levels:\n",
    "    alpha = 1 - confidence  # Significance level (1 - confidence level)\n",
    "    z_score = stats.norm.ppf(1 - alpha / 2)  # Z-score for a two-tailed test\n",
    "    z_scores.append(z_score)\n",
    "\n",
    "# Print the Z-scores for each confidence level\n",
    "for i, confidence in enumerate(confidence_levels):\n",
    "    print(f\"{confidence * 100}% Confidence Interval Z-score: {z_scores[i]:.4f}\")\n"
   ]
  },
  {
   "cell_type": "markdown",
   "id": "37063afe",
   "metadata": {},
   "source": [
    "###  Q 23) Calculate the t scores of 95% confidence interval, 96% confidence interval, 99% confidence interval for sample size of 25"
   ]
  },
  {
   "cell_type": "code",
   "execution_count": 20,
   "id": "cde54469",
   "metadata": {},
   "outputs": [
    {
     "name": "stdout",
     "output_type": "stream",
     "text": [
      "95.0% Confidence Interval T-score: 2.0639\n",
      "96.0% Confidence Interval T-score: 2.1715\n",
      "99.0% Confidence Interval T-score: 2.7969\n"
     ]
    }
   ],
   "source": [
    "import scipy.stats as stats\n",
    "\n",
    "# Sample size\n",
    "sample_size = 25\n",
    "\n",
    "# Confidence levels for the intervals\n",
    "confidence_levels = [0.95, 0.96, 0.99]\n",
    "\n",
    "# Degrees of freedom for a sample size of 25\n",
    "degrees_of_freedom = sample_size - 1\n",
    "\n",
    "# Calculate t-scores for each confidence level\n",
    "t_scores = []\n",
    "for confidence in confidence_levels:\n",
    "    alpha = 1 - confidence  # Significance level (1 - confidence level)\n",
    "    t_score = stats.t.ppf(1 - alpha / 2, df=degrees_of_freedom)  # T-score for a two-tailed test\n",
    "    t_scores.append(t_score)\n",
    "\n",
    "# Print the t-scores for each confidence level\n",
    "for i, confidence in enumerate(confidence_levels):\n",
    "    print(f\"{confidence * 100}% Confidence Interval T-score: {t_scores[i]:.4f}\")\n"
   ]
  },
  {
   "cell_type": "markdown",
   "id": "9804ad51",
   "metadata": {},
   "source": [
    "### Q 24)   A Government  company claims that an average light bulb lasts 270 days. A researcher randomly selects 18 bulbs for testing. The sampled bulbs last an average of 260 days, with a standard deviation of 90 days. If the CEO's claim were true, what is the probability that 18 randomly selected bulbs would have an average life of no more than 260 days"
   ]
  },
  {
   "cell_type": "code",
   "execution_count": 23,
   "id": "e03c96f7",
   "metadata": {},
   "outputs": [
    {
     "name": "stdout",
     "output_type": "stream",
     "text": [
      "Probability that 18 bulbs have an average life of no more than 260 days: 0.32167253567098364\n"
     ]
    }
   ],
   "source": [
    "import scipy.stats as stats\n",
    "\n",
    "# Given data\n",
    "population_mean = 270  # Claimed average life of light bulbs\n",
    "sample_mean = 260  # Sampled average life of the 18 bulbs\n",
    "sample_std = 90  # Standard deviation of the sample\n",
    "sample_size = 18  # Number of bulbs in the sample\n",
    "\n",
    "# Calculate the standard error of the mean\n",
    "standard_error = sample_std / (sample_size ** 0.5)\n",
    "\n",
    "# Calculate the t-score\n",
    "t_score = (sample_mean - population_mean) / standard_error\n",
    "\n",
    "# Degrees of freedom for a one-sample t-test\n",
    "degrees_of_freedom = sample_size - 1\n",
    "\n",
    "# Calculate the probability using the pt function (t-distribution CDF)\n",
    "probability = stats.t.cdf(t_score, df=degrees_of_freedom)\n",
    "\n",
    "# Print the probability\n",
    "print(\"Probability that 18 bulbs have an average life of no more than 260 days:\", probability)\n"
   ]
  },
  {
   "cell_type": "code",
   "execution_count": null,
   "id": "533537c1",
   "metadata": {},
   "outputs": [],
   "source": []
  }
 ],
 "metadata": {
  "kernelspec": {
   "display_name": "Python 3 (ipykernel)",
   "language": "python",
   "name": "python3"
  },
  "language_info": {
   "codemirror_mode": {
    "name": "ipython",
    "version": 3
   },
   "file_extension": ".py",
   "mimetype": "text/x-python",
   "name": "python",
   "nbconvert_exporter": "python",
   "pygments_lexer": "ipython3",
   "version": "3.9.12"
  }
 },
 "nbformat": 4,
 "nbformat_minor": 5
}
